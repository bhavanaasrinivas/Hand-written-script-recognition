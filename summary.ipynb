{
 "cells": [
  {
   "cell_type": "markdown",
   "metadata": {},
   "source": [
    "# Summary of Machine Learning for Humans"
   ]
  },
  {
   "cell_type": "markdown",
   "metadata": {},
   "source": [
    "this book is about artificial intelligence and is suitable for any kind of readers (technical,non technical and anyone who is curious know about how machines think.Machine learning is a subset of artifical intelligene."
   ]
  },
  {
   "cell_type": "markdown",
   "metadata": {},
   "source": [
    "There are three types of machine learning"
   ]
  },
  {
   "cell_type": "markdown",
   "metadata": {},
   "source": [
    "\n"
   ]
  },
  {
   "cell_type": "markdown",
   "metadata": {},
   "source": [
    "- Supervised learning"
   ]
  },
  {
   "cell_type": "markdown",
   "metadata": {},
   "source": [
    "- Unsupervised learning"
   ]
  },
  {
   "cell_type": "markdown",
   "metadata": {},
   "source": [
    "- Reinforcement learning"
   ]
  },
  {
   "cell_type": "markdown",
   "metadata": {},
   "source": [
    "## Supervised Learning"
   ]
  },
  {
   "cell_type": "markdown",
   "metadata": {},
   "source": [
    "The two main tasks of this learning are\n",
    "- regression \n",
    "- classification"
   ]
  },
  {
   "cell_type": "markdown",
   "metadata": {},
   "source": [
    "Here we use data set containing training examples with associated correct labels.The main working idea is to predict a value using new inputs."
   ]
  },
  {
   "cell_type": "markdown",
   "metadata": {},
   "source": [
    "In regression predicting data is split into training data set and test data set.The training data set has labels(known values) and test data set doesnt have labels(unknown values).\n",
    "y=f(x)+c\n"
   ]
  },
  {
   "cell_type": "markdown",
   "metadata": {},
   "source": [
    "In classification predicting it predicts discrete target label where as regression predicting uses continuous target labels.The accuracy depends on effectiveness on algorithm and how much useful trainging data is provided.\n"
   ]
  },
  {
   "cell_type": "markdown",
   "metadata": {},
   "source": [
    "The two fundamental classification methods are:\n",
    "- logistic regression\n",
    "- support vector machines"
   ]
  },
  {
   "cell_type": "markdown",
   "metadata": {},
   "source": [
    "the two non parametric supervised learning are k-NN and decision trees\n",
    "\n",
    "k- nearest neighbours\n",
    "\n",
    "higher values of k help address overfitting.\n",
    "k-NN is used in classification:fraud detection,regression:predicting housing prices to name a few.\n"
   ]
  },
  {
   "cell_type": "markdown",
   "metadata": {},
   "source": [
    "decision trees"
   ]
  },
  {
   "cell_type": "markdown",
   "metadata": {},
   "source": [
    "To seperate data we split the data and also to reduce entropy in data set.\n",
    "A random forest is a meta-estimator that agregates many decision trees.these are examples of ensemble model.\n"
   ]
  },
  {
   "cell_type": "markdown",
   "metadata": {},
   "source": [
    "## Unsupervised Learning"
   ]
  },
  {
   "cell_type": "markdown",
   "metadata": {},
   "source": [
    "here we use unlabeled data.The two tasks are clustering the data and single value decomposition."
   ]
  },
  {
   "cell_type": "markdown",
   "metadata": {},
   "source": [
    "Data clustering\n",
    "it is grouping data by similarity and reducing dimensionality to compress the data while maintaining its structure and usefulness.\n",
    "k-means clustering\n",
    "here we cluster data into k groups.a larger k denotes smaller groups with more quality.this would give set of labels assiging each data point to each k-group.groups are defined by creating centroid for each group.\n",
    "these centroids are heart of cluster.\n",
    "hierarchial clustering\n",
    "here we bulid a hierarchy of clusters.provides flexibility.\n",
    "Dimensionality reduction has two techniques :\n",
    "- principal component analysis\n",
    "- singular value decomposition"
   ]
  },
  {
   "cell_type": "markdown",
   "metadata": {},
   "source": [
    "the first one uses bases and spaces. the three basis vectors are known as principal components.\n",
    "the secons one is computation that allows decomposition of matrix into product of 3 smaller matrices."
   ]
  },
  {
   "cell_type": "markdown",
   "metadata": {},
   "source": [
    "## Neural Network and Deep Learning"
   ]
  },
  {
   "cell_type": "markdown",
   "metadata": {},
   "source": [
    "It s mainly Y=f(X)+c that is Training and testing.\n",
    "Artificail neural networks are known as universal function approximators because they are able to learn anything with just a single hidden layer.\n",
    "Deep learning comes under Machine learning\n",
    "we use data to train the machine and then using new data or inputs we test it.\n",
    "Deep neural netorks are used in image identification or classification.It uses abstraction\n"
   ]
  },
  {
   "cell_type": "markdown",
   "metadata": {},
   "source": [
    "## Reinforcement Learning"
   ]
  },
  {
   "cell_type": "markdown",
   "metadata": {},
   "source": [
    "It is form in which training data is absent but still it has to decide how to perform a task.it uses experience,trial and error.\n",
    "epsillon-greedy strategy:\n",
    "epsillon- is percent of the time it takes for a random action rather than taking an action that has maximum reward.\n",
    "markov decision processes\n",
    "a process that has specified transition probablities from one state to another.\n",
    "Q-learning\n",
    "a technique that evaluates an action based on action-value function that determines the value being in a certain state.\n",
    "Policy learning\n",
    "straight-forward alternative to q-learning and it uses policy function."
   ]
  },
  {
   "cell_type": "markdown",
   "metadata": {},
   "source": []
  }
 ],
 "metadata": {
  "kernelspec": {
   "display_name": "Python 3",
   "language": "python",
   "name": "python3"
  },
  "language_info": {
   "codemirror_mode": {
    "name": "ipython",
    "version": 3
   },
   "file_extension": ".py",
   "mimetype": "text/x-python",
   "name": "python",
   "nbconvert_exporter": "python",
   "pygments_lexer": "ipython3",
   "version": "3.7.4"
  }
 },
 "nbformat": 4,
 "nbformat_minor": 2
}
