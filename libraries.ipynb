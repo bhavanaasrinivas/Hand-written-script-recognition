{
 "cells": [
  {
   "cell_type": "markdown",
   "metadata": {},
   "source": [
    "# NumPy"
   ]
  },
  {
   "cell_type": "markdown",
   "metadata": {},
   "source": [
    "NumPy stands for Numerical Python.\n",
    " It is the core library for scientific computing, which it contains a powerful n-dimensional array object, provide tools for integrating C, C++ etc. It is also useful in linear algebra, random number capability etc. NumPy array can also be used as an efficient multi-dimensional container for generic data.\n",
    " Few operations or functions in numpy:\n",
    " - ndim\n",
    " - itemsize\n",
    " - dtype\n",
    " - slicing\n",
    " - squareroot(sqrt)\n",
    " - standard deviation(std)\n",
    " - addition\n",
    " - stacking\n",
    " "
   ]
  },
  {
   "cell_type": "markdown",
   "metadata": {},
   "source": [
    "# Pandas"
   ]
  },
  {
   "cell_type": "markdown",
   "metadata": {},
   "source": [
    "Pandas is the most popular python library that is used for data analysis. It provides highly optimized performance with back-end source code is purely written in C or Python.\n",
    "we can analyse data in pandas with:\n",
    "- Series\n",
    "- Dataframes\n",
    "\n",
    "Series is one dimensional(1-D) array defined in pandas that can be used to store any data type.\n",
    "Data can be:\n",
    "A Scalar value which can be integerValue, string\n",
    "A Python Dictionary which can be Key, Value pair\n",
    "A Ndarray\n",
    "\n",
    "DataFrames is two-dimensional(2-D) data structure defined in pandas which consists of rows and columns\n",
    "Data can be:\n",
    "One or more dictionaries\n",
    "One or more Series\n",
    "2D-numpy Ndarray\n",
    "\n",
    " Few functions in Pandas are:\n",
    "- index()\n",
    "- insert()\n",
    "- add()\n",
    "- sub()\n",
    "- nunique()\n",
    "- axes()\n",
    "- null()\n"
   ]
  },
  {
   "cell_type": "markdown",
   "metadata": {},
   "source": [
    "# Sklearn"
   ]
  },
  {
   "cell_type": "markdown",
   "metadata": {},
   "source": [
    "It is Scikit-learn. It is a library in Python that provides many unsupervised and supervised learning algorithms.\n",
    "The functionality that scikit-learn provides include:\n",
    "- Regression:including Linear and Logistic Regression\n",
    "- Classification: including K-Nearest Neighbors\n",
    "- Clusterin: including K-Means and K-Means++\n",
    "- Model selection\n",
    "- Preprocessing: including Min-Max Normalization"
   ]
  },
  {
   "cell_type": "code",
   "execution_count": null,
   "metadata": {},
   "outputs": [],
   "source": []
  }
 ],
 "metadata": {
  "kernelspec": {
   "display_name": "Python 3",
   "language": "python",
   "name": "python3"
  },
  "language_info": {
   "codemirror_mode": {
    "name": "ipython",
    "version": 3
   },
   "file_extension": ".py",
   "mimetype": "text/x-python",
   "name": "python",
   "nbconvert_exporter": "python",
   "pygments_lexer": "ipython3",
   "version": "3.7.4"
  }
 },
 "nbformat": 4,
 "nbformat_minor": 2
}
